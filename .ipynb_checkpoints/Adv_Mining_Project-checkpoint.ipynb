{
 "cells": [
  {
   "cell_type": "markdown",
   "metadata": {},
   "source": [
    "# Project 3: Topic Models\n",
    "In this project, we will analyze the 20 newsgroup dataset (http://qwone.com/jason/20Newsgroups/) using topic models. We consider all the articles in the following two news groups: comp.sys.ibm.pc.hardware and comp.sys.mac.hardware.\n",
    "\n",
    "Removing the stopwords from the vocabulary and further limiting the vocabulary to the top 1000 most frequent terms, we can now summarize the N_train training articles and N_test testing articles into a 1000×(N_train +N_test) word frequency count matrix. \n",
    "\n",
    "Denote this matrix as X."
   ]
  },
  {
   "cell_type": "code",
   "execution_count": 1,
   "metadata": {
    "scrolled": false
   },
   "outputs": [],
   "source": [
    "# import sklearn\n",
    "from sklearn.datasets import fetch_20newsgroups\n",
    "from pprint import pprint\n",
    "hardware_train = fetch_20newsgroups(subset='train', categories =['comp.sys.ibm.pc.hardware','comp.sys.mac.hardware'])\n",
    "hardware_test = fetch_20newsgroups(subset='test', categories =['comp.sys.ibm.pc.hardware','comp.sys.mac.hardware'])"
   ]
  },
  {
   "cell_type": "markdown",
   "metadata": {},
   "source": [
    "#### Q1. Use tf as the feature for each document. Train a binary logistic regression model on the training set. Evaluate its document classification accuracy on the testing set."
   ]
  },
  {
   "cell_type": "code",
   "execution_count": 2,
   "metadata": {
    "scrolled": true
   },
   "outputs": [
    {
     "name": "stdout",
     "output_type": "stream",
     "text": [
      "train vector shape: (1168, 1000)\n",
      "test vector shape: (777, 1000)\n",
      "f1_score 0.8712826017811705\n",
      "accuracy: 0.8712998712998713\n"
     ]
    }
   ],
   "source": [
    "from sklearn.feature_extraction.text import TfidfVectorizer\n",
    "\n",
    "# get stopwords list\n",
    "stopwords = open(\"stopwords.txt\").read().replace('\\n', ' ').split()\n",
    "\n",
    "# vectorize and transform traning data using tf as the feature\n",
    "tf_vectorizer = TfidfVectorizer(use_idf=False, \n",
    "                                max_features=1000, \n",
    "                                stop_words = stopwords)\n",
    "\n",
    "tf_vectors = tf_vectorizer.fit_transform(hardware_train.data)\n",
    "\n",
    "print(\"train vector shape:\", tf_vectors.shape)\n",
    "\n",
    "# MultinomialNB\n",
    "from sklearn.linear_model import LogisticRegression\n",
    "from sklearn.metrics import accuracy_score,f1_score\n",
    "\n",
    "# vectorize test data\n",
    "tf_vectors_test = tf_vectorizer.transform(hardware_test.data)\n",
    "print(\"test vector shape:\", tf_vectors_test.shape)\n",
    "\n",
    "\n",
    "\n",
    "# train\n",
    "tf_clf = LogisticRegression(solver='lbfgs')\n",
    "tf_clf.fit(tf_vectors, hardware_train.target)\n",
    "\n",
    "# predict\n",
    "tf_pred = tf_clf.predict(tf_vectors_test)\n",
    "print(\"f1_score\", f1_score(hardware_test.target,tf_pred,average='macro'))\n",
    "print(\"accuracy:\", accuracy_score(hardware_test.target, tf_pred))"
   ]
  },
  {
   "cell_type": "markdown",
   "metadata": {},
   "source": [
    "#### Q2. Use tf-idf as the feature for each document and repeat Q1."
   ]
  },
  {
   "cell_type": "code",
   "execution_count": 3,
   "metadata": {},
   "outputs": [
    {
     "name": "stdout",
     "output_type": "stream",
     "text": [
      "f1_score 0.8815799936386769\n",
      "accuracy: 0.8815958815958816\n"
     ]
    }
   ],
   "source": [
    "# vectorize and transform traning data using tf as the feature\n",
    "tfidf_vectorizer = TfidfVectorizer(use_idf=True, \n",
    "                                max_features=1000, \n",
    "                                stop_words = stopwords)\n",
    "\n",
    "tfidf_vectors = tfidf_vectorizer.fit_transform(hardware_train.data)\n",
    "\n",
    "# vectorize test data\n",
    "tfidf_vectors_test = tfidf_vectorizer.transform(hardware_test.data)\n",
    "\n",
    "# train\n",
    "tfidf_clf = LogisticRegression(solver='lbfgs')\n",
    "tfidf_clf.fit(tfidf_vectors, hardware_train.target)\n",
    "\n",
    "# predict\n",
    "tfidf_pred = tfidf_clf.predict(tfidf_vectors_test)\n",
    "print(\"f1_score\", f1_score(hardware_test.target,tfidf_pred, average='macro'))\n",
    "print(\"accuracy:\", accuracy_score(hardware_test.target, tfidf_pred))"
   ]
  },
  {
   "cell_type": "code",
   "execution_count": 123,
   "metadata": {},
   "outputs": [
    {
     "data": {
      "text/plain": [
       "array([1, 0, 0, ..., 0, 0, 0], dtype=int32)"
      ]
     },
     "execution_count": 123,
     "metadata": {},
     "output_type": "execute_result"
    }
   ],
   "source": [
    "kmeans = KMeans(n_clusters=2, random_state=0).fit(tfidf_vectors)\n",
    "kmeans.labels_"
   ]
  },
  {
   "cell_type": "markdown",
   "metadata": {},
   "source": [
    "#### Q3. Decompose X into USV T using SVD, where we set the dimension of U as 1000×20. Using SV T as the document features and repeat Q1."
   ]
  },
  {
   "cell_type": "code",
   "execution_count": 4,
   "metadata": {},
   "outputs": [
    {
     "name": "stdout",
     "output_type": "stream",
     "text": [
      "<class 'scipy.sparse.csr.csr_matrix'>\n",
      "<class 'scipy.sparse.csr.csr_matrix'>\n",
      "(1168, 1000)\n",
      "(777, 1000)\n"
     ]
    }
   ],
   "source": [
    "#TODO: we don't have X yet\n",
    "print(type(tf_vectors))\n",
    "print(type(tf_vectors_test))\n",
    "print(tf_vectors.shape)\n",
    "print(tf_vectors_test.shape)"
   ]
  },
  {
   "cell_type": "code",
   "execution_count": 74,
   "metadata": {},
   "outputs": [
    {
     "name": "stdout",
     "output_type": "stream",
     "text": [
      "(1000, 1945)\n",
      "(1945,)\n"
     ]
    }
   ],
   "source": [
    "from scipy.sparse import coo_matrix, hstack, vstack\n",
    "import numpy as np\n",
    "tf_vectors_concat = vstack([tf_vectors,tf_vectors_test])\n",
    "X = tf_vectors_concat.toarray().T\n",
    "print(X.shape)\n",
    "\n",
    "X_target = np.concatenate([hardware_train.target,hardware_test.target], axis=0)\n",
    "print(X_target.shape)"
   ]
  },
  {
   "cell_type": "code",
   "execution_count": 28,
   "metadata": {},
   "outputs": [
    {
     "name": "stdout",
     "output_type": "stream",
     "text": [
      "(1000, 20)\n",
      "(20,)\n",
      "(20, 1945)\n"
     ]
    }
   ],
   "source": [
    "from sklearn.utils.extmath import randomized_svd\n",
    "\n",
    "U, Sigma, VT = randomized_svd(X, \n",
    "                              n_components=20,\n",
    "                              n_iter=5,\n",
    "                              random_state=None)\n",
    "print(U.shape)\n",
    "print(Sigma.shape)\n",
    "print(VT.shape)"
   ]
  },
  {
   "cell_type": "code",
   "execution_count": 108,
   "metadata": {},
   "outputs": [
    {
     "name": "stdout",
     "output_type": "stream",
     "text": [
      "f1_score 0.845528886297067\n",
      "accuracy: 0.8455598455598455\n"
     ]
    }
   ],
   "source": [
    "# train\n",
    "SVD_clf = LogisticRegression(solver='lbfgs')\n",
    "SVD_clf.fit(Sigma*VT.T[:1168], hardware_train.target)\n",
    "\n",
    "# predict\n",
    "SVD_pred = SVD_clf.predict(Sigma*VT.T[1168:])\n",
    "print(\"f1_score\", f1_score(hardware_test.target,SVD_pred, average='macro'))\n",
    "print(\"accuracy:\", accuracy_score(hardware_test.target, SVD_pred))"
   ]
  },
  {
   "cell_type": "markdown",
   "metadata": {},
   "source": [
    "#### Q4. Decompose X into WH with nonnegative matrix factorization (NMF), where we set the dimension of W as 1000 x 20. Using H as the document features and repeat Q1."
   ]
  },
  {
   "cell_type": "code",
   "execution_count": 155,
   "metadata": {},
   "outputs": [
    {
     "name": "stdout",
     "output_type": "stream",
     "text": [
      "(1000, 50)\n",
      "(50, 1945)\n"
     ]
    }
   ],
   "source": [
    "from sklearn.decomposition import NMF\n",
    "model = NMF(n_components=50, init='random', random_state=0)\n",
    "W = model.fit_transform(X)\n",
    "H = model.components_\n",
    "print(W.shape)\n",
    "print(H.shape)"
   ]
  },
  {
   "cell_type": "code",
   "execution_count": 156,
   "metadata": {},
   "outputs": [
    {
     "name": "stdout",
     "output_type": "stream",
     "text": [
      "f1_score 0.8301020408163265\n",
      "accuracy: 0.8301158301158301\n"
     ]
    }
   ],
   "source": [
    "# train\n",
    "NMF_clf = LogisticRegression(solver='lbfgs')\n",
    "NMF_clf.fit(H.T[:1168], hardware_train.target)\n",
    "\n",
    "# predict\n",
    "NMF_pred = NMF_clf.predict(H.T[1168:])\n",
    "print(\"f1_score\", f1_score(hardware_test.target,NMF_pred, average='macro'))\n",
    "print(\"accuracy:\", accuracy_score(hardware_test.target, NMF_pred))"
   ]
  },
  {
   "cell_type": "code",
   "execution_count": null,
   "metadata": {},
   "outputs": [],
   "source": []
  },
  {
   "cell_type": "code",
   "execution_count": 139,
   "metadata": {},
   "outputs": [],
   "source": [
    "from sklearn.cluster import KMeans \n",
    "from sklearn import metrics \n",
    "from scipy.spatial.distance import cdist \n",
    "import numpy as np \n",
    "import matplotlib.pyplot as plt  \n",
    "\n",
    "distortions = [] \n",
    "inertias = [] \n",
    "mapping1 = {} \n",
    "mapping2 = {} \n",
    "\n",
    "K = range(1,50) \n",
    "  \n",
    "for k in K: \n",
    "    #Building and fitting the model \n",
    "    kmeanModel = KMeans(n_clusters=k).fit(H.T) \n",
    "    kmeanModel.fit(H.T)     \n",
    "      \n",
    "#     distortions.append(sum(np.min(cdist(tfidf_vectors, kmeanModel.cluster_centers_, \n",
    "#                       'euclidean'),axis=1)) / tfidf_vectors.shape[0]) \n",
    "    inertias.append(kmeanModel.inertia_) \n",
    "  \n",
    "#     mapping1[k] = sum(np.min(cdist(X, kmeanModel.cluster_centers_, \n",
    "#                  'euclidean'),axis=1)) / tfidf_vectors.shape[0] \n",
    "    mapping2[k] = kmeanModel.inertia_ "
   ]
  },
  {
   "cell_type": "code",
   "execution_count": 140,
   "metadata": {},
   "outputs": [
    {
     "data": {
      "image/png": "[encoded data removed]",
      "text/plain": [
       "<Figure size 432x288 with 1 Axes>"
      ]
     },
     "metadata": {
      "needs_background": "light"
     },
     "output_type": "display_data"
    }
   ],
   "source": [
    "plt.plot(K, inertias, 'bx-')\n",
    "plt.xlabel('k')\n",
    "plt.ylabel('Inertia')\n",
    "plt.title('The Elbow Method showing the optimal k')\n",
    "plt.show()"
   ]
  },
  {
   "cell_type": "code",
   "execution_count": null,
   "metadata": {},
   "outputs": [],
   "source": []
  }
 ],
 "metadata": {
  "kernelspec": {
   "display_name": "Python 3",
   "language": "python",
   "name": "python3"
  },
  "language_info": {
   "codemirror_mode": {
    "name": "ipython",
    "version": 3
   },
   "file_extension": ".py",
   "mimetype": "text/x-python",
   "name": "python",
   "nbconvert_exporter": "python",
   "pygments_lexer": "ipython3",
   "version": "3.7.3"
  }
 },
 "nbformat": 4,
 "nbformat_minor": 2
}
