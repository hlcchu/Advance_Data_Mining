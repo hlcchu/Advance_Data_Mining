{
 "cells": [
  {
   "cell_type": "code",
   "execution_count": 15,
   "metadata": {},
   "outputs": [],
   "source": [
    "import os\n",
    "import pandas as pd\n",
    "\n",
    "MAC_TRAIN_PATH = 'dataset/20news-bydate-train/comp.sys.mac.hardware/'\n",
    "PC_TRAIN_PATH = 'dataset/20news-bydate-train/comp.sys.ibm.pc.hardware/'\n",
    "MAC_TEST_PATH = 'dataset/20news-bydate-test/comp.sys.mac.hardware/'\n",
    "PC_TEST_PATH = 'dataset/20news-bydate-test/comp.sys.ibm.pc.hardware/'\n",
    "\n",
    "\n",
    "def getDataFrame(path):\n",
    "    \"\"\"\n",
    "    Args:\n",
    "        path: the path of a directory of files, string.\n",
    "    Returns:\n",
    "        A dataframe of all the content of the files in the given path, \n",
    "        datframe index is the filename. \n",
    "    \"\"\"\n",
    "\n",
    "    data = []\n",
    "    filenames = os.listdir(path)\n",
    "    for name in filenames:\n",
    "        document = path+name\n",
    "        data.append(open(document, \"rb\").read())\n",
    "    df = pd.DataFrame(data, index = filenames, columns = ['Data'])\n",
    "    return df\n",
    "\n",
    "\n",
    "mac_train = getDataFrame(MAC_TRAIN_PATH)\n",
    "pc_train = getDataFrame(PC_TRAIN_PATH)\n",
    "mac_test = getDataFrame(MAC_TEST_PATH)\n",
    "pc_test = getDataFrame(PC_TEST_PATH)"
   ]
  },
  {
   "cell_type": "code",
   "execution_count": 16,
   "metadata": {},
   "outputs": [
    {
     "data": {
      "text/plain": [
       "51832    b\"From: walsteyn@fys.ruu.nl (Fred Walsteijn)\\n...\n",
       "51658    b'From: jas@ISI.EDU (Jeff Sullivan)\\nSubject: ...\n",
       "51667    b'From: Ravi Konchigeri <mongoose@leland.stanf...\n",
       "51693    b'Organization: University of Maine System\\nFr...\n",
       "51499    b\"From: pritchet@cs.scarolina.edu (Ronald W. P...\n",
       "                               ...                        \n",
       "50508    b'From: Peter Hansen <pgmoffc@BNR.ca>\\nSubject...\n",
       "51876    b\"From: Sven Guckes <guckes@math.fu-berlin.de>...\n",
       "50537    b\"From: HK.MLR@forsythe.stanford.edu (Mark Rog...\n",
       "51849    b\"From: fag2@cunixb.cc.columbia.edu (Farul A G...\n",
       "51623    b'From: andrem@pyrtech.mis.pyramid.com (Andre ...\n",
       "Name: Data, Length: 578, dtype: object"
      ]
     },
     "execution_count": 16,
     "metadata": {},
     "output_type": "execute_result"
    }
   ],
   "source": [
    "mac_train['Data']"
   ]
  },
  {
   "cell_type": "code",
   "execution_count": 36,
   "metadata": {},
   "outputs": [
    {
     "data": {
      "text/plain": [
       "578"
      ]
     },
     "execution_count": 36,
     "metadata": {},
     "output_type": "execute_result"
    }
   ],
   "source": [
    "len(mac_train)"
   ]
  },
  {
   "cell_type": "code",
   "execution_count": 54,
   "metadata": {},
   "outputs": [],
   "source": [
    "# import sklearn\n",
    "from sklearn.datasets import fetch_20newsgroups\n",
    "from pprint import pprint\n",
    "newsgroups_train = fetch_20newsgroups(subset='train', categories =['comp.sys.ibm.pc.hardware','comp.sys.mac.hardware'])\n",
    "newsgroups_test = fetch_20newsgroups(subset='test', categories =['comp.sys.ibm.pc.hardware','comp.sys.mac.hardware'])"
   ]
  },
  {
   "cell_type": "code",
   "execution_count": 60,
   "metadata": {},
   "outputs": [],
   "source": [
    "# # Confirm target corresponds to the same categories\n",
    "# for i in range(len(newsgroups_train.data)):\n",
    "#     print(str(newsgroups_train.target[i])+\"   \"+newsgroups_train.filenames[i][71:])"
   ]
  },
  {
   "cell_type": "code",
   "execution_count": 56,
   "metadata": {},
   "outputs": [
    {
     "name": "stdout",
     "output_type": "stream",
     "text": [
      "(1168, 17609)\n",
      "118.3236301369863\n"
     ]
    }
   ],
   "source": [
    "from sklearn.feature_extraction.text import TfidfVectorizer\n",
    "vectorizer = TfidfVectorizer()\n",
    "vectors = vectorizer.fit_transform(newsgroups_train.data)\n",
    "print(vectors.shape)\n",
    "print(vectors.nnz / float(vectors.shape[0]))"
   ]
  },
  {
   "cell_type": "code",
   "execution_count": 58,
   "metadata": {},
   "outputs": [
    {
     "name": "stdout",
     "output_type": "stream",
     "text": [
      "0.912482607831445\n",
      "0.9124839124839125\n"
     ]
    }
   ],
   "source": [
    "# MultinomialNB实现文本分类\n",
    "from sklearn.naive_bayes import MultinomialNB\n",
    "from sklearn.metrics import accuracy_score,f1_score\n",
    "# 提取测试集tfidf特征\n",
    "vectors_test=vectorizer.transform(newsgroups_test.data)\n",
    "# 训练\n",
    "clf=MultinomialNB(alpha=0.1)\n",
    "clf.fit(vectors,newsgroups_train.target)\n",
    "# 预测\n",
    "pred=clf.predict(vectors_test)\n",
    "print(f1_score(newsgroups_test.target,pred,average='macro'))\n",
    "print(accuracy_score(newsgroups_test.target,pred))"
   ]
  },
  {
   "cell_type": "code",
   "execution_count": null,
   "metadata": {},
   "outputs": [],
   "source": []
  }
 ],
 "metadata": {
  "kernelspec": {
   "display_name": "Python 3",
   "language": "python",
   "name": "python3"
  },
  "language_info": {
   "codemirror_mode": {
    "name": "ipython",
    "version": 3
   },
   "file_extension": ".py",
   "mimetype": "text/x-python",
   "name": "python",
   "nbconvert_exporter": "python",
   "pygments_lexer": "ipython3",
   "version": "3.7.3"
  }
 },
 "nbformat": 4,
 "nbformat_minor": 2
}
