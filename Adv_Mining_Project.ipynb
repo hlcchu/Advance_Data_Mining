{
 "cells": [
  {
   "cell_type": "code",
   "execution_count": 34,
   "metadata": {},
   "outputs": [],
   "source": [
    "import os\n",
    "import pandas as pd\n",
    "\n",
    "MAC_TRAIN_PATH = 'dataset/20news-bydate-train/comp.sys.mac.hardware/'\n",
    "PC_TRAIN_PATH = 'dataset/20news-bydate-train/comp.sys.ibm.pc.hardware/'\n",
    "MAC_TEST_PATH = 'dataset/20news-bydate-test/comp.sys.mac.hardware/'\n",
    "PC_TEST_PATH = 'dataset/20news-bydate-test/comp.sys.ibm.pc.hardware/'\n",
    "\n",
    "\n",
    "def getDataFrame(path):\n",
    "    \"\"\"\n",
    "    Args:\n",
    "        path: the path of a directory of files, string.\n",
    "    Returns:\n",
    "        A dataframe of all the content of the files in the given path, \n",
    "        datframe index is the filename. \n",
    "    \"\"\"\n",
    "\n",
    "    data = []\n",
    "    filenames = os.listdir(path)\n",
    "    for name in filenames:\n",
    "        document = path+name\n",
    "        data.append(open(document, \"rb\").read())\n",
    "    df = pd.DataFrame(data, index = filenames, columns = ['Data'])\n",
    "    return df\n",
    "\n",
    "\n",
    "mac_train = getDataFrame(MAC_TRAIN_PATH)\n",
    "pc_train = getDataFrame(PC_TRAIN_PATH)\n",
    "mac_test = getDataFrame(MAC_TEST_PATH)\n",
    "pc_test = getDataFrame(PC_TEST_PATH)"
   ]
  },
  {
   "cell_type": "code",
   "execution_count": 38,
   "metadata": {},
   "outputs": [
    {
     "data": {
      "text/plain": [
       "b\"From: walsteyn@fys.ruu.nl (Fred Walsteijn)\\nSubject: Re: built-in video problems on Mac IIsi !!??!!\\nOrganization: Physics Department, University of Utrecht, The Netherlands\\nLines: 24\\n\\nIn <1993Apr19.164611.1018@fys.ruu.nl> walsteyn@fys.ruu.nl (Fred Walsteijn) writes:\\n\\n>I've seen the following problem om three Mac IIsi machines\\n>all with 17 Mb RAM installed (70 or 80 ns SIMMs).\\n\\n>If the contents of a window are being calculated and updated\\n>a lot of strange horizontal lines are temporarily generated\\n>on the screen.  The lines translate to the top of the screen and\\n>have a slightly lower brightness than their surroundings (they\\n>are a few millimeters apart).\\n>I admit that they are vague, but they can still be distinguished clearly,\\n>especially if the environment (i.e. the rest of the room) is a bit dark.\\n>Applications which produce this effect are:\\n>- the previewer of DirectTeX 1.2 (i.e. DVIReader 1.2)\\n>- Kaleidagraph 2.1.1/FPU\\n\\nAnother program which produces this effect is:\\n- SpyGlass Transform 2.1 (while contouring a big 257*257 array).\\n\\nThanks for any information about this problem,\\n-----------------------------------------------------------------------------\\nFred Walsteijn                                | Internet: walsteyn@fys.ruu.nl\\nInstitute for Marine and Atmospheric Research | FAX:      31-30-543163\\nUtrecht University, The Netherlands           | Phone:    31-30-533169\\n\""
      ]
     },
     "execution_count": 38,
     "metadata": {},
     "output_type": "execute_result"
    }
   ],
   "source": [
    "mac_train['Data'][0]"
   ]
  },
  {
   "cell_type": "code",
   "execution_count": 36,
   "metadata": {},
   "outputs": [
    {
     "data": {
      "text/plain": [
       "578"
      ]
     },
     "execution_count": 36,
     "metadata": {},
     "output_type": "execute_result"
    }
   ],
   "source": [
    "len(mac_train)"
   ]
  }
 ],
 "metadata": {
  "kernelspec": {
   "display_name": "Python 3",
   "language": "python",
   "name": "python3"
  },
  "language_info": {
   "codemirror_mode": {
    "name": "ipython",
    "version": 3
   },
   "file_extension": ".py",
   "mimetype": "text/x-python",
   "name": "python",
   "nbconvert_exporter": "python",
   "pygments_lexer": "ipython3",
   "version": "3.7.4"
  }
 },
 "nbformat": 4,
 "nbformat_minor": 2
}
